{
  "nbformat": 4,
  "nbformat_minor": 0,
  "metadata": {
    "colab": {
      "provenance": []
    },
    "kernelspec": {
      "name": "python3",
      "display_name": "Python 3"
    },
    "language_info": {
      "name": "python"
    }
  },
  "cells": [
    {
      "cell_type": "markdown",
      "source": [
        "My motivation, in this project was to find create a short analysis of African Americans and Black Latino American criminal activity. The data set used in this case scenario was derrived from criminal activity in the 5 boroughs of NYC."
      ],
      "metadata": {
        "id": "MqIkqOKMnRBN"
      }
    },
    {
      "cell_type": "code",
      "execution_count": 2,
      "metadata": {
        "id": "umICRbmNGBk4"
      },
      "outputs": [],
      "source": [
        "import pandas as pd"
      ]
    },
    {
      "cell_type": "code",
      "source": [
        "import matplotlib.pyplot as plt"
      ],
      "metadata": {
        "id": "nCLBCAQdGLTW"
      },
      "execution_count": 3,
      "outputs": []
    },
    {
      "cell_type": "code",
      "source": [
        "missing_values = [\"n/a\",\"na\",\"--\",\"-\"]"
      ],
      "metadata": {
        "id": "ZV6Hbc1dGQZx"
      },
      "execution_count": 4,
      "outputs": []
    },
    {
      "cell_type": "code",
      "source": [
        "df = pd.read_csv('/content/NYPD_Arrest_Data__Year_to_Date__20231219.csv')"
      ],
      "metadata": {
        "id": "SG6LTIs5G6iT"
      },
      "execution_count": 5,
      "outputs": []
    },
    {
      "cell_type": "code",
      "source": [
        "df.shape"
      ],
      "metadata": {
        "colab": {
          "base_uri": "https://localhost:8080/"
        },
        "id": "JzSH2o5gHIEp",
        "outputId": "a0861d15-0cb0-4c81-886b-eb303fa8abd4"
      },
      "execution_count": 16,
      "outputs": [
        {
          "output_type": "execute_result",
          "data": {
            "text/plain": [
              "(22780, 19)"
            ]
          },
          "metadata": {},
          "execution_count": 16
        }
      ]
    },
    {
      "cell_type": "code",
      "source": [
        "df"
      ],
      "metadata": {
        "colab": {
          "base_uri": "https://localhost:8080/",
          "height": 790
        },
        "id": "egcd6TzX8Kdc",
        "outputId": "50184b48-a70a-4f56-cbe3-a563217e1c1b"
      },
      "execution_count": 17,
      "outputs": [
        {
          "output_type": "execute_result",
          "data": {
            "text/plain": [
              "       ARREST_KEY ARREST_DATE  PD_CD                         PD_DESC  KY_CD  \\\n",
              "0       261209118  01/01/2023  109.0        ASSAULT 2,1,UNCLASSIFIED  106.0   \n",
              "1       262984267  02/03/2023  515.0     CONTROLLED SUBSTANCE,SALE 3  117.0   \n",
              "2       263664549  02/15/2023  105.0               STRANGULATION 1ST  106.0   \n",
              "3       261345231  01/04/2023  105.0               STRANGULATION 1ST  106.0   \n",
              "4       263536618  02/13/2023  109.0        ASSAULT 2,1,UNCLASSIFIED  106.0   \n",
              "...           ...         ...    ...                             ...    ...   \n",
              "22775   267689453  05/03/2023  922.0  TRAFFIC,UNCLASSIFIED MISDEMEAN  348.0   \n",
              "22776   261717584  01/11/2023   49.0          U.S. CODE UNCLASSIFIED  995.0   \n",
              "22777   261253888  01/03/2023  101.0                       ASSAULT 3  344.0   \n",
              "22778   263439665  02/11/2023  115.0         RECKLESS ENDANGERMENT 2  355.0   \n",
              "22779   264822954  03/10/2023    NaN                             NaN    NaN   \n",
              "\n",
              "                          OFNS_DESC    LAW_CODE LAW_CAT_CD ARREST_BORO  \\\n",
              "0                    FELONY ASSAULT  PL 1200501          F           K   \n",
              "1                   DANGEROUS DRUGS  PL 2203901          F           K   \n",
              "2                    FELONY ASSAULT  PL 1211200          F           K   \n",
              "3                    FELONY ASSAULT  PL 1211200          F           M   \n",
              "4                    FELONY ASSAULT  PL 12005WX          F           K   \n",
              "...                             ...         ...        ...         ...   \n",
              "22775      VEHICLE AND TRAFFIC LAWS  VTL05110MU          M           M   \n",
              "22776         FOR OTHER AUTHORITIES  FOA9000049        NaN           K   \n",
              "22777  ASSAULT 3 & RELATED OFFENSES  PL 1200001          M           B   \n",
              "22778   OFFENSES AGAINST THE PERSON  PL 1202000          M           B   \n",
              "22779                           NaN         NaN        NaN         NaN   \n",
              "\n",
              "       ARREST_PRECINCT  JURISDICTION_CODE AGE_GROUP PERP_SEX       PERP_RACE  \\\n",
              "0                 77.0                0.0     45-64        F           BLACK   \n",
              "1                 73.0                0.0     25-44        M           BLACK   \n",
              "2                 62.0                0.0     25-44        M           WHITE   \n",
              "3                 32.0                0.0     25-44        M           BLACK   \n",
              "4                 71.0                0.0     25-44        M           BLACK   \n",
              "...                ...                ...       ...      ...             ...   \n",
              "22775             26.0                0.0     18-24        M           BLACK   \n",
              "22776             69.0                0.0     25-44        M           BLACK   \n",
              "22777             43.0                0.0     25-44        M  WHITE HISPANIC   \n",
              "22778             44.0                0.0     25-44        M  BLACK HISPANIC   \n",
              "22779              NaN                NaN       NaN      NaN             NaN   \n",
              "\n",
              "       X_COORD_CD  Y_COORD_CD   Latitude  Longitude  \\\n",
              "0        999335.0    186085.0  40.677426 -73.945615   \n",
              "1       1009318.0    178259.0  40.655923 -73.909650   \n",
              "2        982272.0    158771.0  40.602468 -74.007120   \n",
              "3        999899.0    238684.0  40.821797 -73.943457   \n",
              "4       1001437.0    183080.0  40.669175 -73.938042   \n",
              "...           ...         ...        ...        ...   \n",
              "22775    996660.0    235153.0  40.812109 -73.955168   \n",
              "22776   1012910.0    175663.0  40.648786 -73.896717   \n",
              "22777   1021822.0    245547.0  40.840566 -73.864209   \n",
              "22778   1007343.0    245993.0  40.841841 -73.916538   \n",
              "22779         NaN         NaN        NaN        NaN   \n",
              "\n",
              "           New Georeferenced Column  \n",
              "0      POINT (-73.945615 40.677426)  \n",
              "1       POINT (-73.90965 40.655923)  \n",
              "2       POINT (-74.00712 40.602468)  \n",
              "3      POINT (-73.943457 40.821797)  \n",
              "4      POINT (-73.938042 40.669175)  \n",
              "...                             ...  \n",
              "22775  POINT (-73.955168 40.812109)  \n",
              "22776  POINT (-73.896717 40.648786)  \n",
              "22777  POINT (-73.864209 40.840566)  \n",
              "22778  POINT (-73.916538 40.841841)  \n",
              "22779                           NaN  \n",
              "\n",
              "[22780 rows x 19 columns]"
            ],
            "text/html": [
              "\n",
              "  <div id=\"df-d0746c45-260b-488d-b2ed-1038f628ba0e\" class=\"colab-df-container\">\n",
              "    <div>\n",
              "<style scoped>\n",
              "    .dataframe tbody tr th:only-of-type {\n",
              "        vertical-align: middle;\n",
              "    }\n",
              "\n",
              "    .dataframe tbody tr th {\n",
              "        vertical-align: top;\n",
              "    }\n",
              "\n",
              "    .dataframe thead th {\n",
              "        text-align: right;\n",
              "    }\n",
              "</style>\n",
              "<table border=\"1\" class=\"dataframe\">\n",
              "  <thead>\n",
              "    <tr style=\"text-align: right;\">\n",
              "      <th></th>\n",
              "      <th>ARREST_KEY</th>\n",
              "      <th>ARREST_DATE</th>\n",
              "      <th>PD_CD</th>\n",
              "      <th>PD_DESC</th>\n",
              "      <th>KY_CD</th>\n",
              "      <th>OFNS_DESC</th>\n",
              "      <th>LAW_CODE</th>\n",
              "      <th>LAW_CAT_CD</th>\n",
              "      <th>ARREST_BORO</th>\n",
              "      <th>ARREST_PRECINCT</th>\n",
              "      <th>JURISDICTION_CODE</th>\n",
              "      <th>AGE_GROUP</th>\n",
              "      <th>PERP_SEX</th>\n",
              "      <th>PERP_RACE</th>\n",
              "      <th>X_COORD_CD</th>\n",
              "      <th>Y_COORD_CD</th>\n",
              "      <th>Latitude</th>\n",
              "      <th>Longitude</th>\n",
              "      <th>New Georeferenced Column</th>\n",
              "    </tr>\n",
              "  </thead>\n",
              "  <tbody>\n",
              "    <tr>\n",
              "      <th>0</th>\n",
              "      <td>261209118</td>\n",
              "      <td>01/01/2023</td>\n",
              "      <td>109.0</td>\n",
              "      <td>ASSAULT 2,1,UNCLASSIFIED</td>\n",
              "      <td>106.0</td>\n",
              "      <td>FELONY ASSAULT</td>\n",
              "      <td>PL 1200501</td>\n",
              "      <td>F</td>\n",
              "      <td>K</td>\n",
              "      <td>77.0</td>\n",
              "      <td>0.0</td>\n",
              "      <td>45-64</td>\n",
              "      <td>F</td>\n",
              "      <td>BLACK</td>\n",
              "      <td>999335.0</td>\n",
              "      <td>186085.0</td>\n",
              "      <td>40.677426</td>\n",
              "      <td>-73.945615</td>\n",
              "      <td>POINT (-73.945615 40.677426)</td>\n",
              "    </tr>\n",
              "    <tr>\n",
              "      <th>1</th>\n",
              "      <td>262984267</td>\n",
              "      <td>02/03/2023</td>\n",
              "      <td>515.0</td>\n",
              "      <td>CONTROLLED SUBSTANCE,SALE 3</td>\n",
              "      <td>117.0</td>\n",
              "      <td>DANGEROUS DRUGS</td>\n",
              "      <td>PL 2203901</td>\n",
              "      <td>F</td>\n",
              "      <td>K</td>\n",
              "      <td>73.0</td>\n",
              "      <td>0.0</td>\n",
              "      <td>25-44</td>\n",
              "      <td>M</td>\n",
              "      <td>BLACK</td>\n",
              "      <td>1009318.0</td>\n",
              "      <td>178259.0</td>\n",
              "      <td>40.655923</td>\n",
              "      <td>-73.909650</td>\n",
              "      <td>POINT (-73.90965 40.655923)</td>\n",
              "    </tr>\n",
              "    <tr>\n",
              "      <th>2</th>\n",
              "      <td>263664549</td>\n",
              "      <td>02/15/2023</td>\n",
              "      <td>105.0</td>\n",
              "      <td>STRANGULATION 1ST</td>\n",
              "      <td>106.0</td>\n",
              "      <td>FELONY ASSAULT</td>\n",
              "      <td>PL 1211200</td>\n",
              "      <td>F</td>\n",
              "      <td>K</td>\n",
              "      <td>62.0</td>\n",
              "      <td>0.0</td>\n",
              "      <td>25-44</td>\n",
              "      <td>M</td>\n",
              "      <td>WHITE</td>\n",
              "      <td>982272.0</td>\n",
              "      <td>158771.0</td>\n",
              "      <td>40.602468</td>\n",
              "      <td>-74.007120</td>\n",
              "      <td>POINT (-74.00712 40.602468)</td>\n",
              "    </tr>\n",
              "    <tr>\n",
              "      <th>3</th>\n",
              "      <td>261345231</td>\n",
              "      <td>01/04/2023</td>\n",
              "      <td>105.0</td>\n",
              "      <td>STRANGULATION 1ST</td>\n",
              "      <td>106.0</td>\n",
              "      <td>FELONY ASSAULT</td>\n",
              "      <td>PL 1211200</td>\n",
              "      <td>F</td>\n",
              "      <td>M</td>\n",
              "      <td>32.0</td>\n",
              "      <td>0.0</td>\n",
              "      <td>25-44</td>\n",
              "      <td>M</td>\n",
              "      <td>BLACK</td>\n",
              "      <td>999899.0</td>\n",
              "      <td>238684.0</td>\n",
              "      <td>40.821797</td>\n",
              "      <td>-73.943457</td>\n",
              "      <td>POINT (-73.943457 40.821797)</td>\n",
              "    </tr>\n",
              "    <tr>\n",
              "      <th>4</th>\n",
              "      <td>263536618</td>\n",
              "      <td>02/13/2023</td>\n",
              "      <td>109.0</td>\n",
              "      <td>ASSAULT 2,1,UNCLASSIFIED</td>\n",
              "      <td>106.0</td>\n",
              "      <td>FELONY ASSAULT</td>\n",
              "      <td>PL 12005WX</td>\n",
              "      <td>F</td>\n",
              "      <td>K</td>\n",
              "      <td>71.0</td>\n",
              "      <td>0.0</td>\n",
              "      <td>25-44</td>\n",
              "      <td>M</td>\n",
              "      <td>BLACK</td>\n",
              "      <td>1001437.0</td>\n",
              "      <td>183080.0</td>\n",
              "      <td>40.669175</td>\n",
              "      <td>-73.938042</td>\n",
              "      <td>POINT (-73.938042 40.669175)</td>\n",
              "    </tr>\n",
              "    <tr>\n",
              "      <th>...</th>\n",
              "      <td>...</td>\n",
              "      <td>...</td>\n",
              "      <td>...</td>\n",
              "      <td>...</td>\n",
              "      <td>...</td>\n",
              "      <td>...</td>\n",
              "      <td>...</td>\n",
              "      <td>...</td>\n",
              "      <td>...</td>\n",
              "      <td>...</td>\n",
              "      <td>...</td>\n",
              "      <td>...</td>\n",
              "      <td>...</td>\n",
              "      <td>...</td>\n",
              "      <td>...</td>\n",
              "      <td>...</td>\n",
              "      <td>...</td>\n",
              "      <td>...</td>\n",
              "      <td>...</td>\n",
              "    </tr>\n",
              "    <tr>\n",
              "      <th>22775</th>\n",
              "      <td>267689453</td>\n",
              "      <td>05/03/2023</td>\n",
              "      <td>922.0</td>\n",
              "      <td>TRAFFIC,UNCLASSIFIED MISDEMEAN</td>\n",
              "      <td>348.0</td>\n",
              "      <td>VEHICLE AND TRAFFIC LAWS</td>\n",
              "      <td>VTL05110MU</td>\n",
              "      <td>M</td>\n",
              "      <td>M</td>\n",
              "      <td>26.0</td>\n",
              "      <td>0.0</td>\n",
              "      <td>18-24</td>\n",
              "      <td>M</td>\n",
              "      <td>BLACK</td>\n",
              "      <td>996660.0</td>\n",
              "      <td>235153.0</td>\n",
              "      <td>40.812109</td>\n",
              "      <td>-73.955168</td>\n",
              "      <td>POINT (-73.955168 40.812109)</td>\n",
              "    </tr>\n",
              "    <tr>\n",
              "      <th>22776</th>\n",
              "      <td>261717584</td>\n",
              "      <td>01/11/2023</td>\n",
              "      <td>49.0</td>\n",
              "      <td>U.S. CODE UNCLASSIFIED</td>\n",
              "      <td>995.0</td>\n",
              "      <td>FOR OTHER AUTHORITIES</td>\n",
              "      <td>FOA9000049</td>\n",
              "      <td>NaN</td>\n",
              "      <td>K</td>\n",
              "      <td>69.0</td>\n",
              "      <td>0.0</td>\n",
              "      <td>25-44</td>\n",
              "      <td>M</td>\n",
              "      <td>BLACK</td>\n",
              "      <td>1012910.0</td>\n",
              "      <td>175663.0</td>\n",
              "      <td>40.648786</td>\n",
              "      <td>-73.896717</td>\n",
              "      <td>POINT (-73.896717 40.648786)</td>\n",
              "    </tr>\n",
              "    <tr>\n",
              "      <th>22777</th>\n",
              "      <td>261253888</td>\n",
              "      <td>01/03/2023</td>\n",
              "      <td>101.0</td>\n",
              "      <td>ASSAULT 3</td>\n",
              "      <td>344.0</td>\n",
              "      <td>ASSAULT 3 &amp; RELATED OFFENSES</td>\n",
              "      <td>PL 1200001</td>\n",
              "      <td>M</td>\n",
              "      <td>B</td>\n",
              "      <td>43.0</td>\n",
              "      <td>0.0</td>\n",
              "      <td>25-44</td>\n",
              "      <td>M</td>\n",
              "      <td>WHITE HISPANIC</td>\n",
              "      <td>1021822.0</td>\n",
              "      <td>245547.0</td>\n",
              "      <td>40.840566</td>\n",
              "      <td>-73.864209</td>\n",
              "      <td>POINT (-73.864209 40.840566)</td>\n",
              "    </tr>\n",
              "    <tr>\n",
              "      <th>22778</th>\n",
              "      <td>263439665</td>\n",
              "      <td>02/11/2023</td>\n",
              "      <td>115.0</td>\n",
              "      <td>RECKLESS ENDANGERMENT 2</td>\n",
              "      <td>355.0</td>\n",
              "      <td>OFFENSES AGAINST THE PERSON</td>\n",
              "      <td>PL 1202000</td>\n",
              "      <td>M</td>\n",
              "      <td>B</td>\n",
              "      <td>44.0</td>\n",
              "      <td>0.0</td>\n",
              "      <td>25-44</td>\n",
              "      <td>M</td>\n",
              "      <td>BLACK HISPANIC</td>\n",
              "      <td>1007343.0</td>\n",
              "      <td>245993.0</td>\n",
              "      <td>40.841841</td>\n",
              "      <td>-73.916538</td>\n",
              "      <td>POINT (-73.916538 40.841841)</td>\n",
              "    </tr>\n",
              "    <tr>\n",
              "      <th>22779</th>\n",
              "      <td>264822954</td>\n",
              "      <td>03/10/2023</td>\n",
              "      <td>NaN</td>\n",
              "      <td>NaN</td>\n",
              "      <td>NaN</td>\n",
              "      <td>NaN</td>\n",
              "      <td>NaN</td>\n",
              "      <td>NaN</td>\n",
              "      <td>NaN</td>\n",
              "      <td>NaN</td>\n",
              "      <td>NaN</td>\n",
              "      <td>NaN</td>\n",
              "      <td>NaN</td>\n",
              "      <td>NaN</td>\n",
              "      <td>NaN</td>\n",
              "      <td>NaN</td>\n",
              "      <td>NaN</td>\n",
              "      <td>NaN</td>\n",
              "      <td>NaN</td>\n",
              "    </tr>\n",
              "  </tbody>\n",
              "</table>\n",
              "<p>22780 rows × 19 columns</p>\n",
              "</div>\n",
              "    <div class=\"colab-df-buttons\">\n",
              "\n",
              "  <div class=\"colab-df-container\">\n",
              "    <button class=\"colab-df-convert\" onclick=\"convertToInteractive('df-d0746c45-260b-488d-b2ed-1038f628ba0e')\"\n",
              "            title=\"Convert this dataframe to an interactive table.\"\n",
              "            style=\"display:none;\">\n",
              "\n",
              "  <svg xmlns=\"http://www.w3.org/2000/svg\" height=\"24px\" viewBox=\"0 -960 960 960\">\n",
              "    <path d=\"M120-120v-720h720v720H120Zm60-500h600v-160H180v160Zm220 220h160v-160H400v160Zm0 220h160v-160H400v160ZM180-400h160v-160H180v160Zm440 0h160v-160H620v160ZM180-180h160v-160H180v160Zm440 0h160v-160H620v160Z\"/>\n",
              "  </svg>\n",
              "    </button>\n",
              "\n",
              "  <style>\n",
              "    .colab-df-container {\n",
              "      display:flex;\n",
              "      gap: 12px;\n",
              "    }\n",
              "\n",
              "    .colab-df-convert {\n",
              "      background-color: #E8F0FE;\n",
              "      border: none;\n",
              "      border-radius: 50%;\n",
              "      cursor: pointer;\n",
              "      display: none;\n",
              "      fill: #1967D2;\n",
              "      height: 32px;\n",
              "      padding: 0 0 0 0;\n",
              "      width: 32px;\n",
              "    }\n",
              "\n",
              "    .colab-df-convert:hover {\n",
              "      background-color: #E2EBFA;\n",
              "      box-shadow: 0px 1px 2px rgba(60, 64, 67, 0.3), 0px 1px 3px 1px rgba(60, 64, 67, 0.15);\n",
              "      fill: #174EA6;\n",
              "    }\n",
              "\n",
              "    .colab-df-buttons div {\n",
              "      margin-bottom: 4px;\n",
              "    }\n",
              "\n",
              "    [theme=dark] .colab-df-convert {\n",
              "      background-color: #3B4455;\n",
              "      fill: #D2E3FC;\n",
              "    }\n",
              "\n",
              "    [theme=dark] .colab-df-convert:hover {\n",
              "      background-color: #434B5C;\n",
              "      box-shadow: 0px 1px 3px 1px rgba(0, 0, 0, 0.15);\n",
              "      filter: drop-shadow(0px 1px 2px rgba(0, 0, 0, 0.3));\n",
              "      fill: #FFFFFF;\n",
              "    }\n",
              "  </style>\n",
              "\n",
              "    <script>\n",
              "      const buttonEl =\n",
              "        document.querySelector('#df-d0746c45-260b-488d-b2ed-1038f628ba0e button.colab-df-convert');\n",
              "      buttonEl.style.display =\n",
              "        google.colab.kernel.accessAllowed ? 'block' : 'none';\n",
              "\n",
              "      async function convertToInteractive(key) {\n",
              "        const element = document.querySelector('#df-d0746c45-260b-488d-b2ed-1038f628ba0e');\n",
              "        const dataTable =\n",
              "          await google.colab.kernel.invokeFunction('convertToInteractive',\n",
              "                                                    [key], {});\n",
              "        if (!dataTable) return;\n",
              "\n",
              "        const docLinkHtml = 'Like what you see? Visit the ' +\n",
              "          '<a target=\"_blank\" href=https://colab.research.google.com/notebooks/data_table.ipynb>data table notebook</a>'\n",
              "          + ' to learn more about interactive tables.';\n",
              "        element.innerHTML = '';\n",
              "        dataTable['output_type'] = 'display_data';\n",
              "        await google.colab.output.renderOutput(dataTable, element);\n",
              "        const docLink = document.createElement('div');\n",
              "        docLink.innerHTML = docLinkHtml;\n",
              "        element.appendChild(docLink);\n",
              "      }\n",
              "    </script>\n",
              "  </div>\n",
              "\n",
              "\n",
              "<div id=\"df-7bab3979-a12a-4b9d-9e43-8eb7cf9a5523\">\n",
              "  <button class=\"colab-df-quickchart\" onclick=\"quickchart('df-7bab3979-a12a-4b9d-9e43-8eb7cf9a5523')\"\n",
              "            title=\"Suggest charts\"\n",
              "            style=\"display:none;\">\n",
              "\n",
              "<svg xmlns=\"http://www.w3.org/2000/svg\" height=\"24px\"viewBox=\"0 0 24 24\"\n",
              "     width=\"24px\">\n",
              "    <g>\n",
              "        <path d=\"M19 3H5c-1.1 0-2 .9-2 2v14c0 1.1.9 2 2 2h14c1.1 0 2-.9 2-2V5c0-1.1-.9-2-2-2zM9 17H7v-7h2v7zm4 0h-2V7h2v10zm4 0h-2v-4h2v4z\"/>\n",
              "    </g>\n",
              "</svg>\n",
              "  </button>\n",
              "\n",
              "<style>\n",
              "  .colab-df-quickchart {\n",
              "      --bg-color: #E8F0FE;\n",
              "      --fill-color: #1967D2;\n",
              "      --hover-bg-color: #E2EBFA;\n",
              "      --hover-fill-color: #174EA6;\n",
              "      --disabled-fill-color: #AAA;\n",
              "      --disabled-bg-color: #DDD;\n",
              "  }\n",
              "\n",
              "  [theme=dark] .colab-df-quickchart {\n",
              "      --bg-color: #3B4455;\n",
              "      --fill-color: #D2E3FC;\n",
              "      --hover-bg-color: #434B5C;\n",
              "      --hover-fill-color: #FFFFFF;\n",
              "      --disabled-bg-color: #3B4455;\n",
              "      --disabled-fill-color: #666;\n",
              "  }\n",
              "\n",
              "  .colab-df-quickchart {\n",
              "    background-color: var(--bg-color);\n",
              "    border: none;\n",
              "    border-radius: 50%;\n",
              "    cursor: pointer;\n",
              "    display: none;\n",
              "    fill: var(--fill-color);\n",
              "    height: 32px;\n",
              "    padding: 0;\n",
              "    width: 32px;\n",
              "  }\n",
              "\n",
              "  .colab-df-quickchart:hover {\n",
              "    background-color: var(--hover-bg-color);\n",
              "    box-shadow: 0 1px 2px rgba(60, 64, 67, 0.3), 0 1px 3px 1px rgba(60, 64, 67, 0.15);\n",
              "    fill: var(--button-hover-fill-color);\n",
              "  }\n",
              "\n",
              "  .colab-df-quickchart-complete:disabled,\n",
              "  .colab-df-quickchart-complete:disabled:hover {\n",
              "    background-color: var(--disabled-bg-color);\n",
              "    fill: var(--disabled-fill-color);\n",
              "    box-shadow: none;\n",
              "  }\n",
              "\n",
              "  .colab-df-spinner {\n",
              "    border: 2px solid var(--fill-color);\n",
              "    border-color: transparent;\n",
              "    border-bottom-color: var(--fill-color);\n",
              "    animation:\n",
              "      spin 1s steps(1) infinite;\n",
              "  }\n",
              "\n",
              "  @keyframes spin {\n",
              "    0% {\n",
              "      border-color: transparent;\n",
              "      border-bottom-color: var(--fill-color);\n",
              "      border-left-color: var(--fill-color);\n",
              "    }\n",
              "    20% {\n",
              "      border-color: transparent;\n",
              "      border-left-color: var(--fill-color);\n",
              "      border-top-color: var(--fill-color);\n",
              "    }\n",
              "    30% {\n",
              "      border-color: transparent;\n",
              "      border-left-color: var(--fill-color);\n",
              "      border-top-color: var(--fill-color);\n",
              "      border-right-color: var(--fill-color);\n",
              "    }\n",
              "    40% {\n",
              "      border-color: transparent;\n",
              "      border-right-color: var(--fill-color);\n",
              "      border-top-color: var(--fill-color);\n",
              "    }\n",
              "    60% {\n",
              "      border-color: transparent;\n",
              "      border-right-color: var(--fill-color);\n",
              "    }\n",
              "    80% {\n",
              "      border-color: transparent;\n",
              "      border-right-color: var(--fill-color);\n",
              "      border-bottom-color: var(--fill-color);\n",
              "    }\n",
              "    90% {\n",
              "      border-color: transparent;\n",
              "      border-bottom-color: var(--fill-color);\n",
              "    }\n",
              "  }\n",
              "</style>\n",
              "\n",
              "  <script>\n",
              "    async function quickchart(key) {\n",
              "      const quickchartButtonEl =\n",
              "        document.querySelector('#' + key + ' button');\n",
              "      quickchartButtonEl.disabled = true;  // To prevent multiple clicks.\n",
              "      quickchartButtonEl.classList.add('colab-df-spinner');\n",
              "      try {\n",
              "        const charts = await google.colab.kernel.invokeFunction(\n",
              "            'suggestCharts', [key], {});\n",
              "      } catch (error) {\n",
              "        console.error('Error during call to suggestCharts:', error);\n",
              "      }\n",
              "      quickchartButtonEl.classList.remove('colab-df-spinner');\n",
              "      quickchartButtonEl.classList.add('colab-df-quickchart-complete');\n",
              "    }\n",
              "    (() => {\n",
              "      let quickchartButtonEl =\n",
              "        document.querySelector('#df-7bab3979-a12a-4b9d-9e43-8eb7cf9a5523 button');\n",
              "      quickchartButtonEl.style.display =\n",
              "        google.colab.kernel.accessAllowed ? 'block' : 'none';\n",
              "    })();\n",
              "  </script>\n",
              "</div>\n",
              "\n",
              "  <div id=\"id_fbbd3dae-8726-40ba-8494-48f588bd3660\">\n",
              "    <style>\n",
              "      .colab-df-generate {\n",
              "        background-color: #E8F0FE;\n",
              "        border: none;\n",
              "        border-radius: 50%;\n",
              "        cursor: pointer;\n",
              "        display: none;\n",
              "        fill: #1967D2;\n",
              "        height: 32px;\n",
              "        padding: 0 0 0 0;\n",
              "        width: 32px;\n",
              "      }\n",
              "\n",
              "      .colab-df-generate:hover {\n",
              "        background-color: #E2EBFA;\n",
              "        box-shadow: 0px 1px 2px rgba(60, 64, 67, 0.3), 0px 1px 3px 1px rgba(60, 64, 67, 0.15);\n",
              "        fill: #174EA6;\n",
              "      }\n",
              "\n",
              "      [theme=dark] .colab-df-generate {\n",
              "        background-color: #3B4455;\n",
              "        fill: #D2E3FC;\n",
              "      }\n",
              "\n",
              "      [theme=dark] .colab-df-generate:hover {\n",
              "        background-color: #434B5C;\n",
              "        box-shadow: 0px 1px 3px 1px rgba(0, 0, 0, 0.15);\n",
              "        filter: drop-shadow(0px 1px 2px rgba(0, 0, 0, 0.3));\n",
              "        fill: #FFFFFF;\n",
              "      }\n",
              "    </style>\n",
              "    <button class=\"colab-df-generate\" onclick=\"generateWithVariable('df')\"\n",
              "            title=\"Generate code using this dataframe.\"\n",
              "            style=\"display:none;\">\n",
              "\n",
              "  <svg xmlns=\"http://www.w3.org/2000/svg\" height=\"24px\"viewBox=\"0 0 24 24\"\n",
              "       width=\"24px\">\n",
              "    <path d=\"M7,19H8.4L18.45,9,17,7.55,7,17.6ZM5,21V16.75L18.45,3.32a2,2,0,0,1,2.83,0l1.4,1.43a1.91,1.91,0,0,1,.58,1.4,1.91,1.91,0,0,1-.58,1.4L9.25,21ZM18.45,9,17,7.55Zm-12,3A5.31,5.31,0,0,0,4.9,8.1,5.31,5.31,0,0,0,1,6.5,5.31,5.31,0,0,0,4.9,4.9,5.31,5.31,0,0,0,6.5,1,5.31,5.31,0,0,0,8.1,4.9,5.31,5.31,0,0,0,12,6.5,5.46,5.46,0,0,0,6.5,12Z\"/>\n",
              "  </svg>\n",
              "    </button>\n",
              "    <script>\n",
              "      (() => {\n",
              "      const buttonEl =\n",
              "        document.querySelector('#id_fbbd3dae-8726-40ba-8494-48f588bd3660 button.colab-df-generate');\n",
              "      buttonEl.style.display =\n",
              "        google.colab.kernel.accessAllowed ? 'block' : 'none';\n",
              "\n",
              "      buttonEl.onclick = () => {\n",
              "        google.colab.notebook.generateWithVariable('df');\n",
              "      }\n",
              "      })();\n",
              "    </script>\n",
              "  </div>\n",
              "\n",
              "    </div>\n",
              "  </div>\n"
            ]
          },
          "metadata": {},
          "execution_count": 17
        }
      ]
    },
    {
      "cell_type": "markdown",
      "source": [
        "created a column list to copy and paste from"
      ],
      "metadata": {
        "id": "CmkEn8nknGUy"
      }
    },
    {
      "cell_type": "code",
      "source": [
        "df.columns"
      ],
      "metadata": {
        "colab": {
          "base_uri": "https://localhost:8080/"
        },
        "id": "CEISiFINHI6C",
        "outputId": "ff75bff9-c00e-4c8a-a821-af02c1e79b3b"
      },
      "execution_count": null,
      "outputs": [
        {
          "output_type": "execute_result",
          "data": {
            "text/plain": [
              "Index(['ARREST_KEY', 'ARREST_DATE', 'PD_CD', 'PD_DESC', 'KY_CD', 'OFNS_DESC',\n",
              "       'LAW_CODE', 'LAW_CAT_CD', 'ARREST_BORO', 'ARREST_PRECINCT',\n",
              "       'JURISDICTION_CODE', 'AGE_GROUP', 'PERP_SEX', 'PERP_RACE', 'X_COORD_CD',\n",
              "       'Y_COORD_CD', 'Latitude', 'Longitude', 'New Georeferenced Column'],\n",
              "      dtype='object')"
            ]
          },
          "metadata": {},
          "execution_count": 7
        }
      ]
    },
    {
      "cell_type": "code",
      "source": [
        "df.info()"
      ],
      "metadata": {
        "colab": {
          "base_uri": "https://localhost:8080/"
        },
        "id": "4ZNJIrvwHSSn",
        "outputId": "6178554a-b96f-41de-96ad-40c9c3c16c7c"
      },
      "execution_count": null,
      "outputs": [
        {
          "output_type": "stream",
          "name": "stdout",
          "text": [
            "<class 'pandas.core.frame.DataFrame'>\n",
            "RangeIndex: 34016 entries, 0 to 34015\n",
            "Data columns (total 19 columns):\n",
            " #   Column                    Non-Null Count  Dtype  \n",
            "---  ------                    --------------  -----  \n",
            " 0   ARREST_KEY                34016 non-null  int64  \n",
            " 1   ARREST_DATE               34016 non-null  object \n",
            " 2   PD_CD                     34016 non-null  int64  \n",
            " 3   PD_DESC                   34015 non-null  object \n",
            " 4   KY_CD                     34011 non-null  float64\n",
            " 5   OFNS_DESC                 34015 non-null  object \n",
            " 6   LAW_CODE                  34015 non-null  object \n",
            " 7   LAW_CAT_CD                33754 non-null  object \n",
            " 8   ARREST_BORO               34015 non-null  object \n",
            " 9   ARREST_PRECINCT           34015 non-null  float64\n",
            " 10  JURISDICTION_CODE         34015 non-null  float64\n",
            " 11  AGE_GROUP                 34015 non-null  object \n",
            " 12  PERP_SEX                  34015 non-null  object \n",
            " 13  PERP_RACE                 34015 non-null  object \n",
            " 14  X_COORD_CD                34015 non-null  float64\n",
            " 15  Y_COORD_CD                34015 non-null  float64\n",
            " 16  Latitude                  34015 non-null  float64\n",
            " 17  Longitude                 34015 non-null  float64\n",
            " 18  New Georeferenced Column  34015 non-null  object \n",
            "dtypes: float64(7), int64(2), object(10)\n",
            "memory usage: 4.9+ MB\n"
          ]
        }
      ]
    },
    {
      "cell_type": "code",
      "source": [
        "unique_boro = df['ARREST_BORO'].unique()\n",
        "unique_boro"
      ],
      "metadata": {
        "colab": {
          "base_uri": "https://localhost:8080/"
        },
        "id": "izBjmAnRHUYp",
        "outputId": "caf14266-b329-49f7-c087-3ea740a20026"
      },
      "execution_count": null,
      "outputs": [
        {
          "output_type": "execute_result",
          "data": {
            "text/plain": [
              "array(['K', 'M', 'Q', 'B', 'S', nan], dtype=object)"
            ]
          },
          "metadata": {},
          "execution_count": 9
        }
      ]
    },
    {
      "cell_type": "markdown",
      "source": [
        "K = Kings County, M = Manhattan, Q = Queens, B = Bronx, S = Staten Island"
      ],
      "metadata": {
        "id": "XqOnqWJ-IE3Q"
      }
    },
    {
      "cell_type": "markdown",
      "source": [
        "AMOUNT OF ARRESTS IN EACH BOROUGH"
      ],
      "metadata": {
        "id": "qtZ3uoONwCez"
      }
    },
    {
      "cell_type": "code",
      "source": [
        "df.groupby(['ARREST_BORO'])['ARREST_DATE'].count().sort_values(ascending = True)"
      ],
      "metadata": {
        "colab": {
          "base_uri": "https://localhost:8080/"
        },
        "id": "qQkG_oJBH0Al",
        "outputId": "2b394a6c-3b96-4675-e340-676d874402cd"
      },
      "execution_count": 30,
      "outputs": [
        {
          "output_type": "execute_result",
          "data": {
            "text/plain": [
              "ARREST_BORO\n",
              "S     944\n",
              "Q    4850\n",
              "M    5236\n",
              "B    5400\n",
              "K    6349\n",
              "Name: ARREST_DATE, dtype: int64"
            ]
          },
          "metadata": {},
          "execution_count": 30
        }
      ]
    },
    {
      "cell_type": "code",
      "source": [
        "unique_races = df['PERP_RACE'].unique()\n",
        "unique_races"
      ],
      "metadata": {
        "colab": {
          "base_uri": "https://localhost:8080/"
        },
        "id": "_GY1LSI-ZPYr",
        "outputId": "1c621641-dbfb-4b4a-c344-efdb9f6c6c8c"
      },
      "execution_count": null,
      "outputs": [
        {
          "output_type": "execute_result",
          "data": {
            "text/plain": [
              "array(['BLACK', 'WHITE', 'ASIAN / PACIFIC ISLANDER', 'WHITE HISPANIC',\n",
              "       'BLACK HISPANIC', 'UNKNOWN', 'AMERICAN INDIAN/ALASKAN NATIVE'],\n",
              "      dtype=object)"
            ]
          },
          "metadata": {},
          "execution_count": 22
        }
      ]
    },
    {
      "cell_type": "markdown",
      "source": [
        "COUNT OF CRIMES COMMITTED BY EACH RACE"
      ],
      "metadata": {
        "id": "_cmmtPbewOWu"
      }
    },
    {
      "cell_type": "code",
      "source": [
        "crime_by_race = df['PERP_RACE'].value_counts(ascending = True)\n",
        "crime_by_race"
      ],
      "metadata": {
        "colab": {
          "base_uri": "https://localhost:8080/"
        },
        "id": "k2QY1szSIBkY",
        "outputId": "8bcc6ed5-d9d0-412a-d736-852a6a158b73"
      },
      "execution_count": null,
      "outputs": [
        {
          "output_type": "execute_result",
          "data": {
            "text/plain": [
              "AMERICAN INDIAN/ALASKAN NATIVE       93\n",
              "UNKNOWN                             512\n",
              "ASIAN / PACIFIC ISLANDER           1788\n",
              "BLACK HISPANIC                     3204\n",
              "WHITE                              3432\n",
              "WHITE HISPANIC                     8561\n",
              "BLACK                             16425\n",
              "Name: PERP_RACE, dtype: int64"
            ]
          },
          "metadata": {},
          "execution_count": 14
        }
      ]
    },
    {
      "cell_type": "markdown",
      "source": [
        "FILTERING TO BLACK AND BLACK HISPANIC CRIME IN EACH BOROUGH"
      ],
      "metadata": {
        "id": "AhKYrT5Y4CCn"
      }
    },
    {
      "cell_type": "code",
      "source": [
        "race_filter_df = df[df['PERP_RACE'].isin(['BLACK', 'BLACK HISPANIC']) & df['ARREST_BORO'].isin(['K', 'M', 'Q', 'B', 'S'])]"
      ],
      "metadata": {
        "id": "twBpIuGFotRI"
      },
      "execution_count": 14,
      "outputs": []
    },
    {
      "cell_type": "code",
      "source": [
        "crime_counts = race_filter_df.groupby(['PERP_RACE', 'ARREST_BORO']).size().reset_index(name='COUNT')"
      ],
      "metadata": {
        "id": "0L3xtkjT3_7x"
      },
      "execution_count": 31,
      "outputs": []
    },
    {
      "cell_type": "code",
      "source": [
        "print(\"Count of BLACK and BLACK HISPANIC crimes in each borough:\")\n",
        "print(crime_counts)"
      ],
      "metadata": {
        "colab": {
          "base_uri": "https://localhost:8080/"
        },
        "id": "YM2HsF5O4sPD",
        "outputId": "67daab28-5017-48b5-f30a-b6ad6983fb10"
      },
      "execution_count": 11,
      "outputs": [
        {
          "output_type": "stream",
          "name": "stdout",
          "text": [
            "Count of BLACK and BLACK HISPANIC crimes in each borough:\n",
            "        PERP_RACE ARREST_BORO  COUNT\n",
            "0           BLACK           B   2529\n",
            "1           BLACK           K   3760\n",
            "2           BLACK           M   2511\n",
            "3           BLACK           Q   1892\n",
            "4           BLACK           S    382\n",
            "5  BLACK HISPANIC           B    947\n",
            "6  BLACK HISPANIC           K    301\n",
            "7  BLACK HISPANIC           M    537\n",
            "8  BLACK HISPANIC           Q    266\n",
            "9  BLACK HISPANIC           S     53\n"
          ]
        }
      ]
    },
    {
      "cell_type": "markdown",
      "source": [
        "CREATING BAR GRAPH TO SHOW COMPARISON BTWN BLACK AND BLACK HISPANIC CRIME"
      ],
      "metadata": {
        "id": "I6oYde0KwoGb"
      }
    },
    {
      "cell_type": "code",
      "source": [
        "crime_counts_pivot = crime_counts.pivot(index='ARREST_BORO', columns='PERP_RACE', values='COUNT')"
      ],
      "metadata": {
        "id": "hEQMM7bx-pqw"
      },
      "execution_count": 18,
      "outputs": []
    },
    {
      "cell_type": "code",
      "source": [
        "ax = crime_counts_pivot.plot(kind='bar', stacked=True, figsize=(10, 6))\n",
        "ax.set_ylabel('Number of Crimes')\n",
        "ax.set_xlabel('Boroughs')\n",
        "ax.set_title('BLACK / BLACK HISPANIC CRIMES IN NYC (by borough)')\n",
        "ax"
      ],
      "metadata": {
        "colab": {
          "base_uri": "https://localhost:8080/",
          "height": 580
        },
        "id": "NpMvebok-2jZ",
        "outputId": "f5a075dc-aea6-4240-c96b-af435f302ffc"
      },
      "execution_count": 27,
      "outputs": [
        {
          "output_type": "execute_result",
          "data": {
            "text/plain": [
              "<Axes: title={'center': 'BLACK / BLACK HISPANIC CRIMES IN NYC (by borough)'}, xlabel='Boroughs', ylabel='Number of Crimes'>"
            ]
          },
          "metadata": {},
          "execution_count": 27
        },
        {
          "output_type": "display_data",
          "data": {
            "text/plain": [
              "<Figure size 1000x600 with 1 Axes>"
            ],
            "image/png": "[encoded data removed]"
          },
          "metadata": {}
        }
      ]
    },
    {
      "cell_type": "markdown",
      "source": [
        "In conclusion, I have found that Afro Americans (blacks) commit more than twice the ammount of crime than their Black Latino counterparts in the NYC area. My primary focus was to provide a framework for those who desire to study Black / Black Latino criminal activity within the 5 boroughs. My suggestion, in this case, would be to dive deeper into factors such as population, poverty level and family structure to continue this case study."
      ],
      "metadata": {
        "id": "dkPvaNgoo7vx"
      }
    },
    {
      "cell_type": "code",
      "source": [],
      "metadata": {
        "id": "WGzpQp8x_U-v"
      },
      "execution_count": null,
      "outputs": []
    }
  ]
}